{
 "cells": [
  {
   "cell_type": "code",
   "execution_count": 1,
   "metadata": {},
   "outputs": [],
   "source": [
    "import tensorflow as tf\n",
    "import os\n",
    "import numpy as np\n",
    "import math\n",
    "import timeit\n",
    "import matplotlib.pyplot as plt"
   ]
  },
  {
   "cell_type": "code",
   "execution_count": 2,
   "metadata": {},
   "outputs": [
    {
     "ename": "TypeError",
     "evalue": "a bytes-like object is required, not 'str'",
     "output_type": "error",
     "traceback": [
      "\u001b[1;31m---------------------------------------------------------------------------\u001b[0m",
      "\u001b[1;31mTypeError\u001b[0m                                 Traceback (most recent call last)",
      "\u001b[1;32m<ipython-input-2-801c0f40ffdb>\u001b[0m in \u001b[0;36m<module>\u001b[1;34m\u001b[0m\n\u001b[0;32m      4\u001b[0m \u001b[0mpos_dir\u001b[0m \u001b[1;33m=\u001b[0m \u001b[1;34mr'rt-polaritydata/rt-polarity.pos'\u001b[0m\u001b[1;33m\u001b[0m\u001b[1;33m\u001b[0m\u001b[0m\n\u001b[0;32m      5\u001b[0m \u001b[1;32mwith\u001b[0m \u001b[0mopen\u001b[0m\u001b[1;33m(\u001b[0m\u001b[0mneg_dir\u001b[0m\u001b[1;33m,\u001b[0m\u001b[1;34m'rb'\u001b[0m\u001b[1;33m)\u001b[0m \u001b[1;32mas\u001b[0m \u001b[0mf\u001b[0m\u001b[1;33m:\u001b[0m\u001b[1;33m\u001b[0m\u001b[1;33m\u001b[0m\u001b[0m\n\u001b[1;32m----> 6\u001b[1;33m     \u001b[0mdata\u001b[0m \u001b[1;33m=\u001b[0m \u001b[0mf\u001b[0m\u001b[1;33m.\u001b[0m\u001b[0mread\u001b[0m\u001b[1;33m(\u001b[0m\u001b[1;33m)\u001b[0m\u001b[1;33m.\u001b[0m\u001b[0msplit\u001b[0m\u001b[1;33m(\u001b[0m\u001b[1;34m'\\n'\u001b[0m\u001b[1;33m)\u001b[0m\u001b[1;33m\u001b[0m\u001b[1;33m\u001b[0m\u001b[0m\n\u001b[0m\u001b[0;32m      7\u001b[0m     \u001b[0mneg_words\u001b[0m \u001b[1;33m=\u001b[0m \u001b[1;33m[\u001b[0m\u001b[1;36m0\u001b[0m\u001b[1;33m]\u001b[0m\u001b[1;33m*\u001b[0m\u001b[0mlen\u001b[0m\u001b[1;33m(\u001b[0m\u001b[0mdata\u001b[0m\u001b[1;33m)\u001b[0m\u001b[1;33m\u001b[0m\u001b[1;33m\u001b[0m\u001b[0m\n\u001b[0;32m      8\u001b[0m     \u001b[1;32mfor\u001b[0m \u001b[0md\u001b[0m \u001b[1;32min\u001b[0m \u001b[0mrange\u001b[0m\u001b[1;33m(\u001b[0m\u001b[0mlen\u001b[0m\u001b[1;33m(\u001b[0m\u001b[0mdata\u001b[0m\u001b[1;33m)\u001b[0m\u001b[1;33m)\u001b[0m\u001b[1;33m:\u001b[0m\u001b[1;33m\u001b[0m\u001b[1;33m\u001b[0m\u001b[0m\n",
      "\u001b[1;31mTypeError\u001b[0m: a bytes-like object is required, not 'str'"
     ]
    }
   ],
   "source": [
    "#处理输入的影评，每一行是一些词\n",
    "#x = [N,max_len,300]\n",
    "neg_dir = r'rt-polaritydata/rt-polarity.neg'\n",
    "pos_dir = r'rt-polaritydata/rt-polarity.pos'\n",
    "with open(neg_dir,'rb') as f:\n",
    "    data = f.read().split('\\n')\n",
    "    neg_words = [0]*len(data)\n",
    "    for d in range(len(data)):\n",
    "        neg_words[d] = data[d].split(' ')\n",
    "print(neg_words[1])\n",
    "max_len = 0\n",
    "for d in neg_words:\n",
    "    if len(d)> max_len:\n",
    "        max_len = len(d)\n",
    "print(max_len)\n",
    "with open(pos_dir,'rb') as f:\n",
    "    data = f.read().split('\\n')\n",
    "    pos_words = [0]*len(data)\n",
    "    for d in range(len(data)):\n",
    "        pos_words[d] = data[d].split(' ')\n",
    "print(pos_words[1])     \n",
    "for d in pos_words:\n",
    "    if len(d)> max_len:\n",
    "        max_len = len(d)      \n",
    "#获取x的axis=1        \n",
    "print(max_len)"
   ]
  },
  {
   "cell_type": "code",
   "execution_count": null,
   "metadata": {},
   "outputs": [],
   "source": [
    "#word_to_vector\n",
    "vectors_dir = r'rt-polaritydata/test2.w2v'\n",
    "with open(vectors_dir,'rb') as f:\n",
    "    data = f.read()\n",
    "    data = str(data)\n",
    "    data = data.split('\\n')\n",
    "    i=0\n",
    "    word_to_vec = {}\n",
    "    vec = []\n",
    "    print(len(data))\n",
    "    for d in range(len(data)):\n",
    "        if i:\n",
    "            dd = data[d].split(' ')\n",
    "            word = dd[0]\n",
    "            vecs = dd[1:]\n",
    "            vec = []\n",
    "            for v in vecs:\n",
    "                if v and word is not '':\n",
    "                    vec.append(float(v))\n",
    "            word_to_vec[word] = vec  \n",
    "        i += 1\n",
    "print(len(word_to_vec))"
   ]
  },
  {
   "cell_type": "code",
   "execution_count": null,
   "metadata": {
    "scrolled": true
   },
   "outputs": [],
   "source": [
    "#text word to vector\n",
    "worddim=300\n",
    "null_fill = [0.0]*worddim\n",
    "x_neg = np.zeros((len(neg_words),max_len,worddim))\n",
    "print(x_neg.shape)\n",
    "for line in range(len(neg_words)):\n",
    "    for word_ind in range(max_len):\n",
    "        if word_ind >= len(neg_words[line]):\n",
    "            x_neg[line][word_ind] = np.array(null_fill)\n",
    "        else:\n",
    "            if neg_words[line][word_ind] in word_to_vec and word_to_vec[neg_words[line][word_ind]]:\n",
    "                x_neg[line][word_ind] = np.array(word_to_vec[neg_words[line][word_ind]])\n",
    "            else:\n",
    "                x_neg[line][word_ind] = np.array(null_fill)\n",
    "\n",
    "\n",
    "null_fill = [0.0]*worddim\n",
    "x_pos = np.zeros((len(pos_words),max_len,worddim))\n",
    "print(x_pos.shape)\n",
    "for line in range(len(pos_words)):\n",
    "    for word_ind in range(max_len):\n",
    "        if word_ind >= len(pos_words[line]):\n",
    "            x_pos[line][word_ind] = np.array(null_fill)\n",
    "        else:\n",
    "            if pos_words[line][word_ind] in word_to_vec and word_to_vec[pos_words[line][word_ind]]:\n",
    "                x_pos[line][word_ind] = np.array(word_to_vec[pos_words[line][word_ind]])\n",
    "            else:\n",
    "                x_pos[line][word_ind] = np.array(null_fill)\n"
   ]
  },
  {
   "cell_type": "code",
   "execution_count": null,
   "metadata": {},
   "outputs": [],
   "source": [
    "#x of shape(14012, 447, 300) and y of shape(14012,)\n",
    "from sklearn.preprocessing import OneHotEncoder\n",
    "y_neg = np.zeros((len(neg_words)))\n",
    "y_pos = np.ones((len(pos_words)))\n",
    "#y_ = np.concatenate((y_neg,y_pos),axis=0)\n",
    "#x_ = np.concatenate((x_neg,x_pos),axis=0)\n",
    "train_data = np.concatenate((x_neg[len(neg_words)/10:],x_pos[len(neg_words)/10:]),axis=0)\n",
    "train_label = np.concatenate((y_neg[len(neg_words)/10:],y_pos[len(neg_words)/10:]),axis=0)\n",
    "\n",
    "ohe = OneHotEncoder()\n",
    "ohe.fit([[0],[1]])\n",
    "train_label = np.array(ohe.transform(np.transpose([train_label,])).toarray()) #trainsform into onehot label\n",
    "\n",
    "np.random.seed(231)\n",
    "np.random.shuffle(train_data)\n",
    "np.random.seed(231)\n",
    "np.random.shuffle(train_label)\n",
    "\n",
    "test_data = np.concatenate((x_neg[:len(neg_words)/10],x_pos[:len(pos_words)/10]),axis=0)\n",
    "test_label = np.concatenate((y_neg[:len(neg_words)/10],y_pos[:len(pos_words)/10]),axis=0)\n",
    "test_label = np.array(ohe.transform(np.transpose([test_label,])).toarray()) #trainsform into onehot label\n",
    "np.random.seed(131)\n",
    "np.random.shuffle(test_data)\n",
    "np.random.seed(131)\n",
    "np.random.shuffle(test_label)\n"
   ]
  },
  {
   "cell_type": "code",
   "execution_count": null,
   "metadata": {},
   "outputs": [],
   "source": [
    "from math import sqrt\n",
    "import random\n",
    "\n",
    "print(\"trainsamples:\",np.sum(train_label,axis=0))\n",
    "print(\"testsamples:\",np.sum(test_label,axis=0))\n",
    "w2v_dim=300\n",
    "conv_filter=100\n",
    "batch_size =64\n",
    "batch_size_test=128\n",
    "drop_rate=0.5\n",
    "train_size=train_data.shape[0]\n",
    "test_size=test_data.shape[0]\n",
    "epochs=50\n",
    "\n",
    "\n",
    "print(\"building the model..\")\n",
    "xs = tf.placeholder(tf.float32,[None,max_len,w2v_dim])\n",
    "ys = tf.placeholder(tf.float32,[None,2])\n",
    "\n",
    "\n",
    "'''\n",
    "your model\n",
    "'''\n",
    "\n",
    "print(\"training...\")\n",
    "for e in range(epochs):\n",
    "    seed=random.randint(0,99)\n",
    "    print(\"seed:\",seed)\n",
    "    np.random.seed(seed)\n",
    "    np.random.shuffle(train_data)\n",
    "    np.random.seed(seed)\n",
    "    np.random.shuffle(train_label)\n",
    "\n",
    "\n",
    "    loss_array=[]\n",
    "    train_acc=[]\n",
    "    print(\"epoch:\",e)\n",
    "    # your training processs\n"
   ]
  },
  {
   "cell_type": "code",
   "execution_count": null,
   "metadata": {},
   "outputs": [],
   "source": []
  }
 ],
 "metadata": {
  "kernelspec": {
   "display_name": "Python 3",
   "language": "python",
   "name": "python3"
  },
  "language_info": {
   "codemirror_mode": {
    "name": "ipython",
    "version": 3
   },
   "file_extension": ".py",
   "mimetype": "text/x-python",
   "name": "python",
   "nbconvert_exporter": "python",
   "pygments_lexer": "ipython3",
   "version": "3.6.8"
  }
 },
 "nbformat": 4,
 "nbformat_minor": 2
}
