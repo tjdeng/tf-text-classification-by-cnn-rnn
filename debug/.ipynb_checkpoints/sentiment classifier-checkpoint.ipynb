{
 "cells": [
  {
   "cell_type": "code",
   "execution_count": 2,
   "metadata": {
    "pycharm": {
     "is_executing": false
    }
   },
   "outputs": [],
   "source": [
    "import tensorflow as tf\n",
    "import os\n",
    "import numpy as np\n",
    "import math\n",
    "import timeit\n",
    "import matplotlib.pyplot as plt"
   ]
  },
  {
   "cell_type": "code",
   "execution_count": 3,
   "metadata": {},
   "outputs": [
    {
     "name": "stdout",
     "output_type": "stream",
     "text": [
      "[b\"it's\", b'so', b'laddish', b'and', b'juvenile', b',', b'only', b'teenage', b'boys', b'could', b'possibly', b'find', b'it', b'funny', b'.', b'']\n",
      "57\n",
      "[b'the', b'gorgeously', b'elaborate', b'continuation', b'of', b'\"', b'the', b'lord', b'of', b'the', b'rings', b'\"', b'trilogy', b'is', b'so', b'huge', b'that', b'a', b'column', b'of', b'words', b'cannot', b'adequately', b'describe', b'co-writer/director', b'peter', b\"jackson's\", b'expanded', b'vision', b'of', b'j', b'.', b'r', b'.', b'r', b'.', b\"tolkien's\", b'middle-earth', b'.', b'']\n",
      "61\n"
     ]
    }
   ],
   "source": [
    "#处理输入的影评，每一行是一些词\n",
    "#x = [N,max_len,300]\n",
    "neg_dir = r'rt-polaritydata/rt-polarity.neg'\n",
    "pos_dir = r'rt-polaritydata/rt-polarity.pos'\n",
    "with open(neg_dir,'rb') as f:\n",
    "    data = f.read().split(b'\\n')  # 读取每一行的单词 \n",
    "    neg_words = [0]*len(data)\n",
    "    for d in range(len(data)):\n",
    "        neg_words[d] = data[d].split(b' ')  # 以空格划分单词\n",
    "print(neg_words[1])\n",
    "max_len = 0\n",
    "for d in neg_words:\n",
    "    if len(d)> max_len:\n",
    "        max_len = len(d)\n",
    "print(max_len)\n",
    "with open(pos_dir,'rb') as f:\n",
    "    data =  f.read().split(b'\\n')\n",
    "    pos_words = [0]*len(data)\n",
    "    for d in range(len(data)):\n",
    "        pos_words[d] = data[d].split(b' ')\n",
    "print(pos_words[1])     \n",
    "for d in pos_words:\n",
    "    if len(d)> max_len:\n",
    "        max_len = len(d)      \n",
    "#获取x的axis=1        \n",
    "print(max_len)"
   ]
  },
  {
   "cell_type": "code",
   "execution_count": 4,
   "metadata": {},
   "outputs": [
    {
     "name": "stdout",
     "output_type": "stream",
     "text": [
      "21428\n",
      "21427\n"
     ]
    }
   ],
   "source": [
    "#word_to_vector\n",
    "vectors_dir = r'rt-polaritydata/test2.w2v'\n",
    "with open(vectors_dir,'rb') as f:\n",
    "    data = f.read()\n",
    "    #data = str(data)\n",
    "    data = data.split(b'\\n')\n",
    "    i=0\n",
    "    word_to_vec = {}\n",
    "    vec = []\n",
    "    print(len(data))\n",
    "    for d in range(len(data)):\n",
    "        if i:\n",
    "            dd = data[d].split(b' ')\n",
    "            word = dd[0]\n",
    "            vecs = dd[1:]\n",
    "            vec = []\n",
    "            for v in vecs:\n",
    "                if v and word is not '':\n",
    "                    vec.append(float(v))\n",
    "            word_to_vec[word] = vec  \n",
    "        i += 1\n",
    "print(len(word_to_vec))"
   ]
  },
  {
   "cell_type": "code",
   "execution_count": 5,
   "metadata": {},
   "outputs": [
    {
     "name": "stdout",
     "output_type": "stream",
     "text": [
      "(5332, 61, 300)\n",
      "(5332, 61, 300)\n"
     ]
    }
   ],
   "source": [
    "#text word to vector\n",
    "worddim=300\n",
    "null_fill = [0.0]*worddim\n",
    "x_neg = np.zeros((len(neg_words),max_len,worddim))\n",
    "print(x_neg.shape)\n",
    "for line in range(len(neg_words)):\n",
    "    for word_ind in range(max_len):\n",
    "        if word_ind >= len(neg_words[line]):\n",
    "            x_neg[line][word_ind] = np.array(null_fill)\n",
    "        else:\n",
    "            if neg_words[line][word_ind] in word_to_vec and word_to_vec[neg_words[line][word_ind]]:\n",
    "                x_neg[line][word_ind] = np.array(word_to_vec[neg_words[line][word_ind]])\n",
    "            else:\n",
    "                x_neg[line][word_ind] = np.array(null_fill)\n",
    "\n",
    "\n",
    "null_fill = [0.0]*worddim\n",
    "x_pos = np.zeros((len(pos_words),max_len,worddim))\n",
    "print(x_pos.shape)\n",
    "for line in range(len(pos_words)):\n",
    "    for word_ind in range(max_len):\n",
    "        if word_ind >= len(pos_words[line]):\n",
    "            x_pos[line][word_ind] = np.array(null_fill)\n",
    "        else:\n",
    "            if pos_words[line][word_ind] in word_to_vec and word_to_vec[pos_words[line][word_ind]]:\n",
    "                x_pos[line][word_ind] = np.array(word_to_vec[pos_words[line][word_ind]])\n",
    "            else:\n",
    "                x_pos[line][word_ind] = np.array(null_fill) "
   ]
  },
  {
   "cell_type": "code",
   "execution_count": 6,
   "metadata": {},
   "outputs": [
    {
     "name": "stderr",
     "output_type": "stream",
     "text": [
      "D:\\anaconda\\install_location\\lib\\site-packages\\sklearn\\preprocessing\\_encoders.py:371: FutureWarning: The handling of integer data will change in version 0.22. Currently, the categories are determined based on the range [0, max(values)], while in the future they will be determined based on the unique values.\n",
      "If you want the future behaviour and silence this warning, you can specify \"categories='auto'\".\n",
      "In case you used a LabelEncoder before this OneHotEncoder to convert the categories to integers, then you can now use the OneHotEncoder directly.\n",
      "  warnings.warn(msg, FutureWarning)\n"
     ]
    },
    {
     "name": "stdout",
     "output_type": "stream",
     "text": [
      "(1066, 61, 300)\n",
      "(1066, 2)\n",
      "(9598, 61, 300)\n",
      "[[ 1.208047 -1.01386  -0.300192 ... -0.31921   0.112712  0.079498]\n",
      " [ 0.010908  0.103696 -0.610115 ... -0.518824  0.270658  1.317218]\n",
      " [ 0.110144 -0.385828 -0.108485 ... -0.527336 -0.349794  0.503358]\n",
      " ...\n",
      " [ 0.        0.        0.       ...  0.        0.        0.      ]\n",
      " [ 0.        0.        0.       ...  0.        0.        0.      ]\n",
      " [ 0.        0.        0.       ...  0.        0.        0.      ]]\n"
     ]
    }
   ],
   "source": [
    "#x of shape(14012, 447, 300) and y of shape(14012,)\n",
    "from sklearn.preprocessing import OneHotEncoder\n",
    "y_neg = np.zeros((len(neg_words)))\n",
    "y_pos = np.ones((len(pos_words)))\n",
    "#y_ = np.concatenate((y_neg,y_pos),axis=0)\n",
    "#x_ = np.concatenate((x_neg,x_pos),axis=0)\n",
    "train_data = np.concatenate((x_neg[len(neg_words)//10:],x_pos[len(neg_words)//10:]),axis=0)  # 将积极和消极的数据连接起来 \n",
    "train_label = np.concatenate((y_neg[len(neg_words)//10:],y_pos[len(neg_words)//10:]),axis=0)\n",
    "\n",
    "ohe = OneHotEncoder()\n",
    "ohe.fit([[0],[1]])\n",
    "train_label = np.array(ohe.transform(np.transpose([train_label,])).toarray()) #trainsform into onehot label\n",
    "\n",
    "np.random.seed(231)\n",
    "np.random.shuffle(train_data)\n",
    "np.random.seed(231)\n",
    "np.random.shuffle(train_label)\n",
    "\n",
    "test_data = np.concatenate((x_neg[:len(neg_words)//10],x_pos[:len(pos_words)//10]),axis=0)\n",
    "test_label = np.concatenate((y_neg[:len(neg_words)//10],y_pos[:len(pos_words)//10]),axis=0)\n",
    "test_label = np.array(ohe.transform(np.transpose([test_label,])).toarray()) #trainsform into onehot label\n",
    "np.random.seed(131)\n",
    "np.random.shuffle(test_data)\n",
    "np.random.seed(131)\n",
    "np.random.shuffle(test_label)\n",
    "print(test_data.shape)\n",
    "print(test_label.shape)\n",
    "print(train_data.shape) \n",
    "\n",
    "print(test_data[0])"
   ]
  },
  {
   "cell_type": "code",
   "execution_count": 7,
   "metadata": {
    "scrolled": true
   },
   "outputs": [
    {
     "name": "stdout",
     "output_type": "stream",
     "text": [
      "trainsamples: [4799. 4799.]\n",
      "testsamples: [533. 533.]\n",
      "training...\n"
     ]
    },
    {
     "ename": "UnrecognizedFlagError",
     "evalue": "Unknown command line flag 'f'",
     "output_type": "error",
     "traceback": [
      "\u001b[1;31m---------------------------------------------------------------------------\u001b[0m",
      "\u001b[1;31mUnrecognizedFlagError\u001b[0m                     Traceback (most recent call last)",
      "\u001b[1;32m<ipython-input-7-65afc57b1edb>\u001b[0m in \u001b[0;36m<module>\u001b[1;34m\u001b[0m\n\u001b[0;32m     28\u001b[0m \u001b[1;32mwith\u001b[0m \u001b[0mtf\u001b[0m\u001b[1;33m.\u001b[0m\u001b[0mGraph\u001b[0m\u001b[1;33m(\u001b[0m\u001b[1;33m)\u001b[0m\u001b[1;33m.\u001b[0m\u001b[0mas_default\u001b[0m\u001b[1;33m(\u001b[0m\u001b[1;33m)\u001b[0m\u001b[1;33m:\u001b[0m\u001b[1;33m\u001b[0m\u001b[1;33m\u001b[0m\u001b[0m\n\u001b[0;32m     29\u001b[0m     session_conf = tf.ConfigProto(\n\u001b[1;32m---> 30\u001b[1;33m         \u001b[0mallow_soft_placement\u001b[0m\u001b[1;33m=\u001b[0m\u001b[0mFLAGS\u001b[0m\u001b[1;33m.\u001b[0m\u001b[0mallow_soft_placement\u001b[0m\u001b[1;33m,\u001b[0m\u001b[1;33m\u001b[0m\u001b[1;33m\u001b[0m\u001b[0m\n\u001b[0m\u001b[0;32m     31\u001b[0m         log_device_placement=FLAGS.log_device_placement)\n\u001b[0;32m     32\u001b[0m     \u001b[0msess\u001b[0m \u001b[1;33m=\u001b[0m \u001b[0mtf\u001b[0m\u001b[1;33m.\u001b[0m\u001b[0mSession\u001b[0m\u001b[1;33m(\u001b[0m\u001b[0mconfig\u001b[0m\u001b[1;33m=\u001b[0m\u001b[0msession_conf\u001b[0m\u001b[1;33m)\u001b[0m\u001b[1;33m\u001b[0m\u001b[1;33m\u001b[0m\u001b[0m\n",
      "\u001b[1;32mD:\\anaconda\\install_location\\lib\\site-packages\\tensorflow\\python\\platform\\flags.py\u001b[0m in \u001b[0;36m__getattr__\u001b[1;34m(self, name)\u001b[0m\n\u001b[0;32m     82\u001b[0m     \u001b[1;31m# a flag.\u001b[0m\u001b[1;33m\u001b[0m\u001b[1;33m\u001b[0m\u001b[1;33m\u001b[0m\u001b[0m\n\u001b[0;32m     83\u001b[0m     \u001b[1;32mif\u001b[0m \u001b[1;32mnot\u001b[0m \u001b[0mwrapped\u001b[0m\u001b[1;33m.\u001b[0m\u001b[0mis_parsed\u001b[0m\u001b[1;33m(\u001b[0m\u001b[1;33m)\u001b[0m\u001b[1;33m:\u001b[0m\u001b[1;33m\u001b[0m\u001b[1;33m\u001b[0m\u001b[0m\n\u001b[1;32m---> 84\u001b[1;33m       \u001b[0mwrapped\u001b[0m\u001b[1;33m(\u001b[0m\u001b[0m_sys\u001b[0m\u001b[1;33m.\u001b[0m\u001b[0margv\u001b[0m\u001b[1;33m)\u001b[0m\u001b[1;33m\u001b[0m\u001b[1;33m\u001b[0m\u001b[0m\n\u001b[0m\u001b[0;32m     85\u001b[0m     \u001b[1;32mreturn\u001b[0m \u001b[0mwrapped\u001b[0m\u001b[1;33m.\u001b[0m\u001b[0m__getattr__\u001b[0m\u001b[1;33m(\u001b[0m\u001b[0mname\u001b[0m\u001b[1;33m)\u001b[0m\u001b[1;33m\u001b[0m\u001b[1;33m\u001b[0m\u001b[0m\n\u001b[0;32m     86\u001b[0m \u001b[1;33m\u001b[0m\u001b[0m\n",
      "\u001b[1;32mD:\\anaconda\\install_location\\lib\\site-packages\\absl\\flags\\_flagvalues.py\u001b[0m in \u001b[0;36m__call__\u001b[1;34m(self, argv, known_only)\u001b[0m\n\u001b[0;32m    631\u001b[0m       \u001b[0msuggestions\u001b[0m \u001b[1;33m=\u001b[0m \u001b[0m_helpers\u001b[0m\u001b[1;33m.\u001b[0m\u001b[0mget_flag_suggestions\u001b[0m\u001b[1;33m(\u001b[0m\u001b[0mname\u001b[0m\u001b[1;33m,\u001b[0m \u001b[0mlist\u001b[0m\u001b[1;33m(\u001b[0m\u001b[0mself\u001b[0m\u001b[1;33m)\u001b[0m\u001b[1;33m)\u001b[0m\u001b[1;33m\u001b[0m\u001b[1;33m\u001b[0m\u001b[0m\n\u001b[0;32m    632\u001b[0m       raise _exceptions.UnrecognizedFlagError(\n\u001b[1;32m--> 633\u001b[1;33m           name, value, suggestions=suggestions)\n\u001b[0m\u001b[0;32m    634\u001b[0m \u001b[1;33m\u001b[0m\u001b[0m\n\u001b[0;32m    635\u001b[0m     \u001b[0mself\u001b[0m\u001b[1;33m.\u001b[0m\u001b[0mmark_as_parsed\u001b[0m\u001b[1;33m(\u001b[0m\u001b[1;33m)\u001b[0m\u001b[1;33m\u001b[0m\u001b[1;33m\u001b[0m\u001b[0m\n",
      "\u001b[1;31mUnrecognizedFlagError\u001b[0m: Unknown command line flag 'f'"
     ]
    }
   ],
   "source": [
    "from math import sqrt\n",
    "import random\n",
    "from text_cnn import TextCNN\n",
    "import os\n",
    "import time\n",
    "import datetime\n",
    "import data_helpers\n",
    "\n",
    "print(\"trainsamples:\",np.sum(train_label,axis=0))\n",
    "print(\"testsamples:\",np.sum(test_label,axis=0))\n",
    "w2v_dim=300  # 一个单词向量的维度\n",
    "conv_filter=100  # num_filter\n",
    "batch_size =128\n",
    "batch_size_test=128\n",
    "drop_rate=0.8  # Dropout可以比较有效的缓解过拟合的发生，在一定程度上达到正则化的效果\n",
    "train_size=train_data.shape[0]  # 序列的长度\n",
    "test_size=test_data.shape[0]\n",
    "epochs=50  # 总共把数据迭代多少轮，一轮代表把所有数据训练一次\n",
    "\n",
    "tf.flags.DEFINE_string(\"filter_sizes\", \"3,4,5\", \"Comma-separated filter sizes (default: '3,4,5')\")\n",
    "tf.flags.DEFINE_float(\"l2_reg_lambda\", 0.0, \"L2 regularization lambda (default: 0.0)\")\n",
    "\n",
    "# Misc parameters\n",
    "tf.flags.DEFINE_boolean(\"allow_soft_placement\", True, \"Allow device soft device placement\")\n",
    "tf.flags.DEFINE_boolean(\"log_device_placement\", False, \"Log placement of ops on devices\")\n",
    "\n",
    "FLAGS = tf.flags.FLAGS\n",
    "\n",
    "print(\"training...\")\n",
    "# Training\n",
    "# ==================================================\n",
    "\n",
    "with tf.Graph().as_default():\n",
    "    session_conf = tf.ConfigProto(\n",
    "        allow_soft_placement=FLAGS.allow_soft_placement,\n",
    "        log_device_placement=FLAGS.log_device_placement)\n",
    "    sess = tf.Session(config=session_conf)\n",
    "    with sess.as_default():\n",
    "        # 卷积池化网络导入\n",
    "        cnn = TextCNN(\n",
    "            sequence_length = train_size,\n",
    "            num_classes = test_label.shape[0],\n",
    "            embedding_size = w2v_dim,\n",
    "            filter_sizes = list(map(int, FLAGS.filter_sizes.split(\",\"))),\n",
    "            num_filters = conv_filter,\n",
    "            l2_reg_lambda = FLAGS.l2_reg_lambda)\n",
    "\n",
    "        # Define Training procedure\n",
    "        global_step = tf.Variable(0, name=\"global_step\", trainable=False)\n",
    "        optimizer = tf.train.AdamOptimizer(1e-3) # 定义优化器\n",
    "        grads_and_vars = optimizer.compute_gradients(cnn.loss)\n",
    "        train_op = optimizer.apply_gradients(grads_and_vars, global_step=global_step)\n",
    "\n",
    "        # Keep track of gradient values and sparsity (optional)\n",
    "        grad_summaries = []\n",
    "        for g, v in grads_and_vars:\n",
    "            if g is not None:\n",
    "                grad_hist_summary = tf.summary.histogram(\"{}/grad/hist\".format(v.name), g)\n",
    "                sparsity_summary = tf.summary.scalar(\"{}/grad/sparsity\".format(v.name), tf.nn.zero_fraction(g))\n",
    "                grad_summaries.append(grad_hist_summary)\n",
    "                grad_summaries.append(sparsity_summary)\n",
    "        grad_summaries_merged = tf.summary.merge(grad_summaries)\n",
    "\n",
    "        # Output directory for models and summaries\n",
    "        timestamp = str(int(time.time()))\n",
    "        out_dir = os.path.abspath(os.path.join(os.path.curdir, \"runs\", timestamp))\n",
    "        print(\"Writing to {}\\n\".format(out_dir))\n",
    "\n",
    "        # Summaries for loss and accuracy\n",
    "        # 损失函数和准确率的参数保存\n",
    "        loss_summary = tf.summary.scalar(\"loss\", cnn.loss)\n",
    "        acc_summary = tf.summary.scalar(\"accuracy\", cnn.accuracy)\n",
    "\n",
    "        # Train Summaries\n",
    "        # 训练数据保存\n",
    "        train_summary_op = tf.summary.merge([loss_summary, acc_summary, grad_summaries_merged])\n",
    "        train_summary_dir = os.path.join(out_dir, \"summaries\", \"train\")\n",
    "        train_summary_writer = tf.summary.FileWriter(train_summary_dir, sess.graph)\n",
    "\n",
    "        # Dev summaries\n",
    "        # 测试数据保存\n",
    "        dev_summary_op = tf.summary.merge([loss_summary, acc_summary])\n",
    "        dev_summary_dir = os.path.join(out_dir, \"summaries\", \"dev\")\n",
    "        dev_summary_writer = tf.summary.FileWriter(dev_summary_dir, sess.graph)\n",
    "\n",
    "        # Checkpoint directory. Tensorflow assumes this directory already exists so we need to create it\n",
    "        checkpoint_dir = os.path.abspath(os.path.join(out_dir, \"checkpoints\"))\n",
    "        checkpoint_prefix = os.path.join(checkpoint_dir, \"model\")\n",
    "        if not os.path.exists(checkpoint_dir):\n",
    "            os.makedirs(checkpoint_dir)\n",
    "\n",
    "        saver = tf.train.Saver(tf.global_variables(), max_to_keep=FLAGS.num_checkpoints) # 前面定义好参数num_checkpoints\n",
    "\n",
    "        # Write vocabulary\n",
    "        # vocab_processor.save(os.path.join(out_dir, \"vocab\"))\n",
    "\n",
    "        # Initialize all variables\n",
    "        sess.run(tf.global_variables_initializer()) # 初始化所有变量\n",
    "\n",
    "        # 定义训练函数\n",
    "        def train_step(x_batch, y_batch):\n",
    "            \"\"\"\n",
    "            A single training step\n",
    "            \"\"\"\n",
    "            feed_dict = {\n",
    "              cnn.input_x: x_batch,\n",
    "              cnn.input_y: y_batch,\n",
    "              cnn.dropout_keep_prob: FLAGS.dropout_keep_prob # 参数在前面有定义\n",
    "            }\n",
    "            _, step, summaries, loss, accuracy = sess.run(\n",
    "                [train_op, global_step, train_summary_op, cnn.loss, cnn.accuracy], feed_dict)\n",
    "            time_str = datetime.datetime.now().isoformat() # 取当前时间，python的函数\n",
    "            print(\"{}: step {}, loss {:g}, acc {:g}\".format(time_str, step, loss, accuracy))\n",
    "            train_summary_writer.add_summary(summaries, step)\n",
    "\n",
    "        # 定义测试函数\n",
    "        def dev_step(x_batch, y_batch, writer=None):\n",
    "            \"\"\"\n",
    "            Evaluates model on a dev set\n",
    "            \"\"\"\n",
    "            feed_dict = {\n",
    "              cnn.input_x: x_batch,\n",
    "              cnn.input_y: y_batch,\n",
    "              cnn.dropout_keep_prob: 1.0 # 神经元全部保留\n",
    "            }\n",
    "            step, summaries, loss, accuracy = sess.run(\n",
    "                [global_step, dev_summary_op, cnn.loss, cnn.accuracy], feed_dict)\n",
    "            time_str = datetime.datetime.now().isoformat()\n",
    "            print(\"{}: step {}, loss {:g}, acc {:g}\".format(time_str, step, loss, accuracy))\n",
    "            if writer:\n",
    "                writer.add_summary(summaries, step)\n",
    "\n",
    "        # Generate batches\n",
    "        batches = data_helpers.batch_iter(list(zip(train_data, train_label)), batch_size, epochs)\n",
    "        # Training loop. For each batch...\n",
    "        # 训练部分\n",
    "        for batch in batches:\n",
    "            x_batch, y_batch = zip(*batch) # 按batch把数据拿进来\n",
    "            train_step(x_batch, y_batch)\n",
    "            current_step = tf.train.global_step(sess, global_step) # 将Session和global_step值传进来\n",
    "            if current_step % FLAGS.evaluate_every == 0: # 每FLAGS.evaluate_every次每100执行一次测试\n",
    "                print(\"\\nEvaluation:\")\n",
    "                dev_step(test_data, test_label, writer=dev_summary_writer)\n",
    "                print(\"\")\n",
    "            if current_step % FLAGS.checkpoint_every == 0: # 每checkpoint_every次执行一次保存模型\n",
    "                path = saver.save(sess, './', global_step=current_step) # 定义模型保存路径\n",
    "                print(\"Saved model checkpoint to {}\\n\".format(path))"
   ]
  }
 ],
 "metadata": {
  "kernelspec": {
   "display_name": "Python 3",
   "language": "python",
   "name": "python3"
  },
  "language_info": {
   "codemirror_mode": {
    "name": "ipython",
    "version": 3
   },
   "file_extension": ".py",
   "mimetype": "text/x-python",
   "name": "python",
   "nbconvert_exporter": "python",
   "pygments_lexer": "ipython3",
   "version": "3.6.8"
  },
  "pycharm": {
   "stem_cell": {
    "cell_type": "raw",
    "metadata": {
     "collapsed": false
    },
    "source": []
   }
  }
 },
 "nbformat": 4,
 "nbformat_minor": 2
}
